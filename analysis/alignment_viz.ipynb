{
 "cells": [
  {
   "cell_type": "markdown",
   "metadata": {},
   "source": [
    "# Word Alignment Visualization (Fast Align)"
   ]
  },
  {
   "cell_type": "code",
   "execution_count": 1,
   "metadata": {},
   "outputs": [],
   "source": [
    "# -*- coding: utf-8 -*-\n",
    "import pandas as pd\n",
    "import numpy as np\n",
    "import os\n",
    "import opennmt\n",
    "import string\n",
    "import yaml\n",
    "import seaborn as sns\n",
    "import matplotlib.pyplot as plt\n",
    "%matplotlib inline"
   ]
  },
  {
   "cell_type": "markdown",
   "metadata": {},
   "source": [
    "## Read Data and Alignment File\n",
    "- Cell output:\n",
    "    - es_data: Spanish BPE applied dataset\n",
    "    - en_data: English BPE applied dataset\n",
    "    - align_data: Fast Align Data (*.gdfa)"
   ]
  },
  {
   "cell_type": "code",
   "execution_count": 11,
   "metadata": {},
   "outputs": [
    {
     "name": "stdout",
     "output_type": "stream",
     "text": [
      "English File Sentences:  93859\n",
      "Spanish File Sentences:  93859\n",
      "Align File Rows:  93859\n"
     ]
    }
   ],
   "source": [
    "def read_text(filepath):\n",
    "    return pd.read_csv(filepath, header=None, names=[\"content\"], sep=\"\\n\")\n",
    "\n",
    "def read_align(filepath):\n",
    "    return pd.read_csv(filepath, header=None, names=[\"align\"])\n",
    "\n",
    "def show_data(data, char_show=100, row_show=10, col_show=10, prec_show=6, sample=True):\n",
    "    pd.options.display.max_colwidth = char_show\n",
    "    pd.options.display.precision = prec_show\n",
    "    pd.options.display.max_columns = col_show\n",
    "    if sample: return data.sample(row_show)\n",
    "    else: return data.head(row_show)\n",
    "\n",
    "es_data = read_text(\"../../../cliang/train/pipeline_test_v3/tokenized_data/NFPA_CS_Train_BPE_applied.es\")\n",
    "en_data = read_text(\"../../../cliang/train/pipeline_test_v3/tokenized_data/NFPA_CS_Train_BPE_applied.en\")\n",
    "align_data = read_align(\"../../../cliang/train/pipeline_test_v3/align_data/NFPA_CS_Train_Align_Corpus.gdfa\")\n",
    "print(\"English File Sentences: \", es_data.shape[0])\n",
    "print(\"Spanish File Sentences: \", en_data.shape[0])\n",
    "print(\"Align File Rows: \", align_data.shape[0])"
   ]
  },
  {
   "cell_type": "code",
   "execution_count": 124,
   "metadata": {},
   "outputs": [
    {
     "data": {
      "text/html": [
       "<div>\n",
       "<style scoped>\n",
       "    .dataframe tbody tr th:only-of-type {\n",
       "        vertical-align: middle;\n",
       "    }\n",
       "\n",
       "    .dataframe tbody tr th {\n",
       "        vertical-align: top;\n",
       "    }\n",
       "\n",
       "    .dataframe thead th {\n",
       "        text-align: right;\n",
       "    }\n",
       "</style>\n",
       "<table border=\"1\" class=\"dataframe\">\n",
       "  <thead>\n",
       "    <tr style=\"text-align: right;\">\n",
       "      <th></th>\n",
       "      <th>align</th>\n",
       "    </tr>\n",
       "  </thead>\n",
       "  <tbody>\n",
       "    <tr>\n",
       "      <th>0</th>\n",
       "      <td>0-0 1-1 2-2 3-3 4-4 5-5 6-6 7-8 8-7 8-8 9-9 10-10 11-11 12-12 13-13 14-14 15-15 16-16 17-17</td>\n",
       "    </tr>\n",
       "    <tr>\n",
       "      <th>1</th>\n",
       "      <td>0-0 1-1 2-2 3-3 3-4 4-4 5-5 6-6 7-7 7-8 8-9 8-10 8-11 9-9</td>\n",
       "    </tr>\n",
       "    <tr>\n",
       "      <th>2</th>\n",
       "      <td>0-1 1-0 1-2 2-3 3-4 4-5 5-7 5-8 6-6 7-9 8-10 9-11 10-12 10-15 11-14 12-13 13-13 14-18 15-16 16-20 17-19 18-20 19-21 20-22 20-26 21-25 22-23 23-36 24-29 25-27 26-31 27-32 28-37 30-33 31-40 31-42 32...</td>\n",
       "    </tr>\n",
       "    <tr>\n",
       "      <th>3</th>\n",
       "      <td>0-0 1-1 2-2 3-3 4-4 5-5 5-6 6-6 7-7 8-10 9-11 9-12 9-13 10-9 11-8 12-17 13-16 13-17 13-18 14-15 15-19</td>\n",
       "    </tr>\n",
       "    <tr>\n",
       "      <th>4</th>\n",
       "      <td>0-9 1-10 2-11 3-12 4-13 5-13 7-21 8-21 8-22 9-6 9-8 10-7 11-16 12-3 13-1 14-5 15-20 16-26 17-25 17-27 18-28 19-30 20-30 21-29 21-31 21-32 22-31 23-33 24-34 25-35 26-36 27-37 27-40 28-41 29-38 30-4...</td>\n",
       "    </tr>\n",
       "  </tbody>\n",
       "</table>\n",
       "</div>"
      ],
      "text/plain": [
       "                                                                                                                                                                                                     align\n",
       "0                                                                                                              0-0 1-1 2-2 3-3 4-4 5-5 6-6 7-8 8-7 8-8 9-9 10-10 11-11 12-12 13-13 14-14 15-15 16-16 17-17\n",
       "1                                                                                                                                                0-0 1-1 2-2 3-3 3-4 4-4 5-5 6-6 7-7 7-8 8-9 8-10 8-11 9-9\n",
       "2  0-1 1-0 1-2 2-3 3-4 4-5 5-7 5-8 6-6 7-9 8-10 9-11 10-12 10-15 11-14 12-13 13-13 14-18 15-16 16-20 17-19 18-20 19-21 20-22 20-26 21-25 22-23 23-36 24-29 25-27 26-31 27-32 28-37 30-33 31-40 31-42 32...\n",
       "3                                                                                                    0-0 1-1 2-2 3-3 4-4 5-5 5-6 6-6 7-7 8-10 9-11 9-12 9-13 10-9 11-8 12-17 13-16 13-17 13-18 14-15 15-19\n",
       "4  0-9 1-10 2-11 3-12 4-13 5-13 7-21 8-21 8-22 9-6 9-8 10-7 11-16 12-3 13-1 14-5 15-20 16-26 17-25 17-27 18-28 19-30 20-30 21-29 21-31 21-32 22-31 23-33 24-34 25-35 26-36 27-37 27-40 28-41 29-38 30-4..."
      ]
     },
     "execution_count": 124,
     "metadata": {},
     "output_type": "execute_result"
    }
   ],
   "source": [
    "show_data(align_data, char_show=200, row_show=5, sample=False)"
   ]
  },
  {
   "cell_type": "markdown",
   "metadata": {},
   "source": [
    "## Get the Sentence and Tokens that one wants to plot\n",
    "- In default, the cell extract the ambiguous or assigned sentence id by using `get_id`\n",
    "- cell output:\n",
    "    - sentence_id: corresponding sentence id in dataset\n",
    "    - en/es_sentence: corresponding corpus text\n",
    "    - en/es_tk: tokens in the sentence\n",
    "    - align_fetched: all the align index pair that fetched from corpus\n",
    "    - align_words: correpsonding align token pair that fetched from corpus"
   ]
  },
  {
   "cell_type": "code",
   "execution_count": 153,
   "metadata": {},
   "outputs": [
    {
     "name": "stdout",
     "output_type": "stream",
     "text": [
      "====== sentence ID 61115 ====== \n",
      "\n",
      "...Original English Sentence: informational note: see informative annex j for information regarding ada accessibility design. \n",
      "\n",
      "...Original Spanish Sentence: nota informativa: ver anexo informativo j para obtener información sobre diseño de accesibilidad de la ley para estadounidenses con discapacidades (@@ ada). \n",
      "\n",
      "...English Tokens (Length 12) ['informational', 'note:', 'see', 'informative', 'annex', 'j', 'for', 'information', 'regarding', 'ada', 'accessibility', 'design.'] \n",
      "\n",
      "...Spanish Tokens (Length 22) ['nota', 'informativa:', 'ver', 'anexo', 'informativo', 'j', 'para', 'obtener', 'información', 'sobre', 'diseño', 'de', 'accesibilidad', 'de', 'la', 'ley', 'para', 'estadounidenses', 'con', 'discapacidades', '(@@', 'ada).'] \n",
      "\n",
      "...Alignment Terms Index (Length 18) [(0, 0), (1, 1), (2, 2), (3, 4), (4, 3), (5, 5), (6, 6), (6, 16), (7, 7), (7, 8), (8, 9), (8, 18), (9, 17), (9, 19), (9, 20), (9, 21), (10, 12), (11, 10)] \n",
      "\n"
     ]
    }
   ],
   "source": [
    "def get_id(align_size, assigned_id = None):\n",
    "    if assigned_id:\n",
    "        return assigned_id\n",
    "    return np.random.choice(align_size)\n",
    "\n",
    "def get_sentence(sentence_id, en_data, es_data):\n",
    "    en_sentence = en_data.loc[sentence_id, \"content\"]\n",
    "    es_sentence = es_data.loc[sentence_id, \"content\"]\n",
    "    return en_sentence, es_sentence\n",
    "\n",
    "def onmt_tokenize(sentence, config = {\"mode\": \"space\"}):\n",
    "    tokenizer = opennmt.tokenizers.opennmt_tokenizer.create_tokenizer(config)\n",
    "    tokenized_sentence = tokenizer.tokenize(sentence)\n",
    "    return tokenized_sentence[0]\n",
    "\n",
    "def get_align(sentence_id, en_token, es_token):\n",
    "    align_fetched = align_data.iloc[sentence_id].str.split(\" \").values[0]\n",
    "    align_fetched = list(map(lambda term: tuple(term.split(\"-\")), align_fetched))\n",
    "    #get the tokenized terms\n",
    "    align_fetched = [(int(term[0]), int(term[1])) for term in align_fetched]\n",
    "    align_words = [(en_token[int(term[0])], es_token[int(term[1])]) for term in align_fetched]\n",
    "    return align_fetched, align_words\n",
    "    \n",
    "sentence_id = get_id(align_data.shape[0], assigned_id = 0)\n",
    "en_sentence, es_sentence = get_sentence(sentence_id, en_data, es_data)\n",
    "en_tk, es_tk = onmt_tokenize(en_sentence), onmt_tokenize(es_sentence)\n",
    "align_fetched, align_words = get_align(sentence_id, en_tk, es_tk)\n",
    "print(\"====== sentence ID %d ====== \\n\"%sentence_id)\n",
    "print(\"...Original English Sentence: %s \\n\"%en_sentence)\n",
    "print(\"...Original Spanish Sentence: %s \\n\"%es_sentence)\n",
    "print(\"...English Tokens (Length %d)\"%len(en_tk), en_tk, \"\\n\")\n",
    "print(\"...Spanish Tokens (Length %d)\"%len(es_tk), es_tk, \"\\n\")\n",
    "print(\"...Alignment Terms Index (Length %d)\"%len(align_fetched), align_fetched, \"\\n\")\n"
   ]
  },
  {
   "cell_type": "markdown",
   "metadata": {},
   "source": [
    "## Plot the alignment"
   ]
  },
  {
   "cell_type": "code",
   "execution_count": 156,
   "metadata": {},
   "outputs": [
    {
     "data": {
      "text/html": [
       "<div>\n",
       "<style scoped>\n",
       "    .dataframe tbody tr th:only-of-type {\n",
       "        vertical-align: middle;\n",
       "    }\n",
       "\n",
       "    .dataframe tbody tr th {\n",
       "        vertical-align: top;\n",
       "    }\n",
       "\n",
       "    .dataframe thead th {\n",
       "        text-align: right;\n",
       "    }\n",
       "</style>\n",
       "<table border=\"1\" class=\"dataframe\">\n",
       "  <thead>\n",
       "    <tr style=\"text-align: right;\">\n",
       "      <th></th>\n",
       "      <th>Spanish_Terms</th>\n",
       "    </tr>\n",
       "    <tr>\n",
       "      <th>English_Terms</th>\n",
       "      <th></th>\n",
       "    </tr>\n",
       "  </thead>\n",
       "  <tbody>\n",
       "    <tr>\n",
       "      <th>accessibility</th>\n",
       "      <td>[accesibilidad]</td>\n",
       "    </tr>\n",
       "    <tr>\n",
       "      <th>ada</th>\n",
       "      <td>[estadounidenses, discapacidades, (@@, ada).]</td>\n",
       "    </tr>\n",
       "    <tr>\n",
       "      <th>annex</th>\n",
       "      <td>[anexo]</td>\n",
       "    </tr>\n",
       "    <tr>\n",
       "      <th>design.</th>\n",
       "      <td>[diseño]</td>\n",
       "    </tr>\n",
       "    <tr>\n",
       "      <th>for</th>\n",
       "      <td>[para, para]</td>\n",
       "    </tr>\n",
       "    <tr>\n",
       "      <th>information</th>\n",
       "      <td>[obtener, información]</td>\n",
       "    </tr>\n",
       "    <tr>\n",
       "      <th>informational</th>\n",
       "      <td>[nota]</td>\n",
       "    </tr>\n",
       "    <tr>\n",
       "      <th>informative</th>\n",
       "      <td>[informativo]</td>\n",
       "    </tr>\n",
       "    <tr>\n",
       "      <th>j</th>\n",
       "      <td>[j]</td>\n",
       "    </tr>\n",
       "    <tr>\n",
       "      <th>note:</th>\n",
       "      <td>[informativa:]</td>\n",
       "    </tr>\n",
       "    <tr>\n",
       "      <th>regarding</th>\n",
       "      <td>[sobre, con]</td>\n",
       "    </tr>\n",
       "    <tr>\n",
       "      <th>see</th>\n",
       "      <td>[ver]</td>\n",
       "    </tr>\n",
       "  </tbody>\n",
       "</table>\n",
       "</div>"
      ],
      "text/plain": [
       "                                               Spanish_Terms\n",
       "English_Terms                                               \n",
       "accessibility                                [accesibilidad]\n",
       "ada            [estadounidenses, discapacidades, (@@, ada).]\n",
       "annex                                                [anexo]\n",
       "design.                                             [diseño]\n",
       "for                                             [para, para]\n",
       "information                           [obtener, información]\n",
       "informational                                         [nota]\n",
       "informative                                    [informativo]\n",
       "j                                                        [j]\n",
       "note:                                         [informativa:]\n",
       "regarding                                       [sobre, con]\n",
       "see                                                    [ver]"
      ]
     },
     "execution_count": 156,
     "metadata": {},
     "output_type": "execute_result"
    }
   ],
   "source": [
    "def align_todf(align_words, mode = \"forward\"):\n",
    "    df = pd.DataFrame.from_records(align_words).rename(columns = {0: \"English_Terms\", 1: \"Spanish_Terms\"})\n",
    "    if mode == \"forward\":\n",
    "        df[\"Spanish_Terms\"] = df[\"Spanish_Terms\"].apply(lambda x: [x])\n",
    "        return df.groupby(\"English_Terms\", sort=False).agg({\"Spanish_Terms\": \"sum\"})\n",
    "    elif mode == \"reverse\":\n",
    "        df[\"English_Terms\"] = df[\"English_Terms\"].apply(lambda x: [x])\n",
    "        return df.groupby(\"Spanish_Terms\", sort=False).agg({\"English_Terms\": \"sum\"})\n",
    "    else:\n",
    "        return df\n",
    "\n",
    "align_todf(align_words).head(20)"
   ]
  },
  {
   "cell_type": "code",
   "execution_count": 152,
   "metadata": {},
   "outputs": [
    {
     "data": {
      "image/png": "[encoded data removed]",
      "text/plain": [
       "<Figure size 800x640 with 2 Axes>"
      ]
     },
     "metadata": {},
     "output_type": "display_data"
    }
   ],
   "source": [
    "def align_toplot(align_fetched, en_ticks, es_ticks):\n",
    "    #create alignment matrix\n",
    "    align_matrix = np.zeros((len(en_ticks), len(es_ticks)))\n",
    "    for (x,y) in align_fetched:\n",
    "        align_matrix[x-1,y-1] = 1\n",
    "    plt.figure(figsize = (10,8), dpi=80)\n",
    "    sns.heatmap(align_matrix, xticklabels= es_ticks, yticklabels = en_ticks, linewidths=.25,cmap = \"Blues\", linecolor=\"White\")\n",
    "\n",
    "align_toplot(align_fetched, en_tk, es_tk)"
   ]
  },
  {
   "cell_type": "code",
   "execution_count": null,
   "metadata": {},
   "outputs": [],
   "source": []
  }
 ],
 "metadata": {
  "kernelspec": {
   "display_name": "Environment (conda_tensorflow_p36)",
   "language": "python",
   "name": "conda_tensorflow_p36"
  },
  "language_info": {
   "codemirror_mode": {
    "name": "ipython",
    "version": 3
   },
   "file_extension": ".py",
   "mimetype": "text/x-python",
   "name": "python",
   "nbconvert_exporter": "python",
   "pygments_lexer": "ipython3",
   "version": "3.6.5"
  }
 },
 "nbformat": 4,
 "nbformat_minor": 2
}
