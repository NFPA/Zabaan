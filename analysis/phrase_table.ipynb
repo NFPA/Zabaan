{
 "cells": [
  {
   "cell_type": "code",
   "execution_count": 1,
   "metadata": {},
   "outputs": [],
   "source": [
    "# -*- coding: utf-8 -*-\n",
    "import pandas as pd\n",
    "import numpy as np\n",
    "import os\n",
    "import opennmt\n",
    "import string\n",
    "import yaml\n",
    "import seaborn as sns\n",
    "import matplotlib.pyplot as plt\n",
    "from IPython.display import clear_output\n",
    "%matplotlib inline"
   ]
  },
  {
   "cell_type": "markdown",
   "metadata": {},
   "source": [
    "### Read Files"
   ]
  },
  {
   "cell_type": "code",
   "execution_count": 2,
   "metadata": {},
   "outputs": [
    {
     "name": "stdout",
     "output_type": "stream",
     "text": [
      "English File Sentences:  93859\n",
      "Spanish File Sentences:  93859\n",
      "Align File Rows:  93859\n",
      "CPU times: user 684 ms, sys: 48 ms, total: 732 ms\n",
      "Wall time: 1.01 s\n"
     ]
    }
   ],
   "source": [
    "%%time\n",
    "def read_text(filepath):\n",
    "    return pd.read_csv(filepath, header=None, names=[\"content\"], sep=\"\\n\")\n",
    "\n",
    "def read_align(filepath):\n",
    "    return pd.read_csv(filepath, header=None, names=[\"align\"])\n",
    "\n",
    "es_data = read_text(\"../../../cliang/train/pipeline_test_v3/tokenized_data/NFPA_CS_Train_BPE_applied.es\")\n",
    "en_data = read_text(\"../../../cliang/train/pipeline_test_v3/tokenized_data/NFPA_CS_Train_BPE_applied.en\")\n",
    "align_data = read_align(\"../../../cliang/train/pipeline_test_v3/align_data/NFPA_CS_Train_Align_Corpus.gdfa\")\n",
    "print(\"English File Sentences: \", es_data.shape[0])\n",
    "print(\"Spanish File Sentences: \", en_data.shape[0])\n",
    "print(\"Align File Rows: \", align_data.shape[0])"
   ]
  },
  {
   "cell_type": "markdown",
   "metadata": {},
   "source": [
    "### Tokenization"
   ]
  },
  {
   "cell_type": "code",
   "execution_count": 3,
   "metadata": {},
   "outputs": [
    {
     "name": "stdout",
     "output_type": "stream",
     "text": [
      "CPU times: user 17.9 s, sys: 460 ms, total: 18.4 s\n",
      "Wall time: 18.4 s\n"
     ]
    }
   ],
   "source": [
    "%%time\n",
    "def onmt_tokenize(sentence, config = {\"mode\": \"space\"}):\n",
    "    tokenizer = opennmt.tokenizers.opennmt_tokenizer.create_tokenizer(config)\n",
    "    tokenized_sentence = tokenizer.tokenize(sentence)\n",
    "    return tokenized_sentence[0]\n",
    "\n",
    "align_data[\"align_idx\"] = align_data[\"align\"].str.split(\" \").apply(lambda x: [tuple(term.split(\"-\")) for term in x])\n",
    "merge_data = pd.concat([en_data.rename(columns={\"content\":\"en_content\"}), es_data.rename(columns={\"content\":\"es_content\"}), align_data[\"align_idx\"]], axis = 1)\n",
    "merge_data[\"en_tokens\"] = merge_data[\"en_content\"].apply(lambda x: onmt_tokenize(x))\n",
    "merge_data[\"es_tokens\"] = merge_data[\"es_content\"].apply(lambda x: onmt_tokenize(x))\n",
    "merge_data.head()"
   ]
  },
  {
   "cell_type": "markdown",
   "metadata": {},
   "source": [
    "### Set up Merged dataframe"
   ]
  },
  {
   "cell_type": "code",
   "execution_count": 4,
   "metadata": {},
   "outputs": [
    {
     "name": "stdout",
     "output_type": "stream",
     "text": [
      "CPU times: user 59.9 s, sys: 180 ms, total: 1min\n",
      "Wall time: 1min\n"
     ]
    }
   ],
   "source": [
    "%%time\n",
    "merge_data_align = merge_data.reset_index().rename(columns = {\"index\": \"sentence_id\"}).loc[:,[\"align_idx\", \"en_tokens\", \"es_tokens\", \"sentence_id\"]]\n",
    "merge_data_align[\"align_list\"] = merge_data_align.apply(lambda x: [(x[\"en_tokens\"][int(term[0])], x[\"es_tokens\"][int(term[1])]) for term in x[\"align_idx\"]], axis = 1)\n",
    "merge_data_align[\"align_len\"] = merge_data_align[\"align_idx\"].apply(lambda x: len(x))"
   ]
  },
  {
   "cell_type": "code",
   "execution_count": 5,
   "metadata": {},
   "outputs": [
    {
     "data": {
      "text/html": [
       "<div>\n",
       "<style scoped>\n",
       "    .dataframe tbody tr th:only-of-type {\n",
       "        vertical-align: middle;\n",
       "    }\n",
       "\n",
       "    .dataframe tbody tr th {\n",
       "        vertical-align: top;\n",
       "    }\n",
       "\n",
       "    .dataframe thead th {\n",
       "        text-align: right;\n",
       "    }\n",
       "</style>\n",
       "<table border=\"1\" class=\"dataframe\">\n",
       "  <thead>\n",
       "    <tr style=\"text-align: right;\">\n",
       "      <th></th>\n",
       "      <th>align_idx</th>\n",
       "      <th>en_tokens</th>\n",
       "      <th>es_tokens</th>\n",
       "      <th>sentence_id</th>\n",
       "      <th>align_list</th>\n",
       "      <th>align_len</th>\n",
       "    </tr>\n",
       "  </thead>\n",
       "  <tbody>\n",
       "    <tr>\n",
       "      <th>0</th>\n",
       "      <td>[(0, 0), (1, 1), (2, 2), (3, 3), (4, 4), (5, 5...</td>\n",
       "      <td>[nfpa, and, national, fire, protection, associ...</td>\n",
       "      <td>[nfpa, y, national, fire, protection, associat...</td>\n",
       "      <td>0</td>\n",
       "      <td>[(nfpa, nfpa), (and, y), (national, national),...</td>\n",
       "      <td>19</td>\n",
       "    </tr>\n",
       "    <tr>\n",
       "      <th>1</th>\n",
       "      <td>[(0, 0), (1, 1), (2, 2), (3, 3), (3, 4), (4, 4...</td>\n",
       "      <td>[copyright, ©, 2011, national, fire, protectio...</td>\n",
       "      <td>[copyright, ©, 2011, national, fire, protectio...</td>\n",
       "      <td>1</td>\n",
       "      <td>[(copyright, copyright), (©, ©), (2011, 2011),...</td>\n",
       "      <td>14</td>\n",
       "    </tr>\n",
       "    <tr>\n",
       "      <th>2</th>\n",
       "      <td>[(0, 1), (1, 0), (1, 2), (2, 3), (3, 4), (4, 5...</td>\n",
       "      <td>[this, edition, of, nfpa, 1,, fire, code,, was...</td>\n",
       "      <td>[la, presente, edición, de, nfpa, 1,, código, ...</td>\n",
       "      <td>2</td>\n",
       "      <td>[(this, presente), (edition, la), (edition, ed...</td>\n",
       "      <td>47</td>\n",
       "    </tr>\n",
       "    <tr>\n",
       "      <th>3</th>\n",
       "      <td>[(0, 0), (1, 1), (2, 2), (3, 3), (4, 4), (5, 5...</td>\n",
       "      <td>[this, edition, of, nfpa, 1, was, approved, as...</td>\n",
       "      <td>[esta, edición, de, nfpa, 1, se, aprobó, como,...</td>\n",
       "      <td>3</td>\n",
       "      <td>[(this, esta), (edition, edición), (of, de), (...</td>\n",
       "      <td>21</td>\n",
       "    </tr>\n",
       "    <tr>\n",
       "      <th>4</th>\n",
       "      <td>[(0, 9), (1, 10), (2, 11), (3, 12), (4, 13), (...</td>\n",
       "      <td>[a, tentative, interim, amendment, (ti@@, a), ...</td>\n",
       "      <td>[el, 11, de, agosto, de, 2011, se, emiti@@, ó,...</td>\n",
       "      <td>4</td>\n",
       "      <td>[(a, una), (tentative, enmienda), (interim, in...</td>\n",
       "      <td>64</td>\n",
       "    </tr>\n",
       "  </tbody>\n",
       "</table>\n",
       "</div>"
      ],
      "text/plain": [
       "                                           align_idx  \\\n",
       "0  [(0, 0), (1, 1), (2, 2), (3, 3), (4, 4), (5, 5...   \n",
       "1  [(0, 0), (1, 1), (2, 2), (3, 3), (3, 4), (4, 4...   \n",
       "2  [(0, 1), (1, 0), (1, 2), (2, 3), (3, 4), (4, 5...   \n",
       "3  [(0, 0), (1, 1), (2, 2), (3, 3), (4, 4), (5, 5...   \n",
       "4  [(0, 9), (1, 10), (2, 11), (3, 12), (4, 13), (...   \n",
       "\n",
       "                                           en_tokens  \\\n",
       "0  [nfpa, and, national, fire, protection, associ...   \n",
       "1  [copyright, ©, 2011, national, fire, protectio...   \n",
       "2  [this, edition, of, nfpa, 1,, fire, code,, was...   \n",
       "3  [this, edition, of, nfpa, 1, was, approved, as...   \n",
       "4  [a, tentative, interim, amendment, (ti@@, a), ...   \n",
       "\n",
       "                                           es_tokens  sentence_id  \\\n",
       "0  [nfpa, y, national, fire, protection, associat...            0   \n",
       "1  [copyright, ©, 2011, national, fire, protectio...            1   \n",
       "2  [la, presente, edición, de, nfpa, 1,, código, ...            2   \n",
       "3  [esta, edición, de, nfpa, 1, se, aprobó, como,...            3   \n",
       "4  [el, 11, de, agosto, de, 2011, se, emiti@@, ó,...            4   \n",
       "\n",
       "                                          align_list  align_len  \n",
       "0  [(nfpa, nfpa), (and, y), (national, national),...         19  \n",
       "1  [(copyright, copyright), (©, ©), (2011, 2011),...         14  \n",
       "2  [(this, presente), (edition, la), (edition, ed...         47  \n",
       "3  [(this, esta), (edition, edición), (of, de), (...         21  \n",
       "4  [(a, una), (tentative, enmienda), (interim, in...         64  "
      ]
     },
     "execution_count": 5,
     "metadata": {},
     "output_type": "execute_result"
    }
   ],
   "source": [
    "merge_data_align.head()"
   ]
  },
  {
   "cell_type": "code",
   "execution_count": 6,
   "metadata": {},
   "outputs": [],
   "source": [
    "# merge_data_align.to_csv(\"/home/ubuntu/cliang/nfpa_eda/experiments/sample_data/align_train.csv\")"
   ]
  },
  {
   "cell_type": "markdown",
   "metadata": {},
   "source": [
    "#### Building index for each align items"
   ]
  },
  {
   "cell_type": "code",
   "execution_count": 7,
   "metadata": {},
   "outputs": [
    {
     "data": {
      "text/html": [
       "<div>\n",
       "<style scoped>\n",
       "    .dataframe tbody tr th:only-of-type {\n",
       "        vertical-align: middle;\n",
       "    }\n",
       "\n",
       "    .dataframe tbody tr th {\n",
       "        vertical-align: top;\n",
       "    }\n",
       "\n",
       "    .dataframe thead th {\n",
       "        text-align: right;\n",
       "    }\n",
       "</style>\n",
       "<table border=\"1\" class=\"dataframe\">\n",
       "  <thead>\n",
       "    <tr style=\"text-align: right;\">\n",
       "      <th></th>\n",
       "      <th>align_idx</th>\n",
       "      <th>en_tokens</th>\n",
       "      <th>es_tokens</th>\n",
       "      <th>sentence_id</th>\n",
       "      <th>align_list</th>\n",
       "      <th>align_len</th>\n",
       "      <th>sentence_id_idx</th>\n",
       "    </tr>\n",
       "  </thead>\n",
       "  <tbody>\n",
       "    <tr>\n",
       "      <th>0</th>\n",
       "      <td>[(0, 0), (1, 1), (2, 2), (3, 3), (4, 4), (5, 5...</td>\n",
       "      <td>[nfpa, and, national, fire, protection, associ...</td>\n",
       "      <td>[nfpa, y, national, fire, protection, associat...</td>\n",
       "      <td>0</td>\n",
       "      <td>[(nfpa, nfpa), (and, y), (national, national),...</td>\n",
       "      <td>19</td>\n",
       "      <td>[0, 0, 0, 0, 0, 0, 0, 0, 0, 0, 0, 0, 0, 0, 0, ...</td>\n",
       "    </tr>\n",
       "    <tr>\n",
       "      <th>1</th>\n",
       "      <td>[(0, 0), (1, 1), (2, 2), (3, 3), (3, 4), (4, 4...</td>\n",
       "      <td>[copyright, ©, 2011, national, fire, protectio...</td>\n",
       "      <td>[copyright, ©, 2011, national, fire, protectio...</td>\n",
       "      <td>1</td>\n",
       "      <td>[(copyright, copyright), (©, ©), (2011, 2011),...</td>\n",
       "      <td>14</td>\n",
       "      <td>[1, 1, 1, 1, 1, 1, 1, 1, 1, 1, 1, 1, 1, 1]</td>\n",
       "    </tr>\n",
       "    <tr>\n",
       "      <th>2</th>\n",
       "      <td>[(0, 1), (1, 0), (1, 2), (2, 3), (3, 4), (4, 5...</td>\n",
       "      <td>[this, edition, of, nfpa, 1,, fire, code,, was...</td>\n",
       "      <td>[la, presente, edición, de, nfpa, 1,, código, ...</td>\n",
       "      <td>2</td>\n",
       "      <td>[(this, presente), (edition, la), (edition, ed...</td>\n",
       "      <td>47</td>\n",
       "      <td>[2, 2, 2, 2, 2, 2, 2, 2, 2, 2, 2, 2, 2, 2, 2, ...</td>\n",
       "    </tr>\n",
       "    <tr>\n",
       "      <th>3</th>\n",
       "      <td>[(0, 0), (1, 1), (2, 2), (3, 3), (4, 4), (5, 5...</td>\n",
       "      <td>[this, edition, of, nfpa, 1, was, approved, as...</td>\n",
       "      <td>[esta, edición, de, nfpa, 1, se, aprobó, como,...</td>\n",
       "      <td>3</td>\n",
       "      <td>[(this, esta), (edition, edición), (of, de), (...</td>\n",
       "      <td>21</td>\n",
       "      <td>[3, 3, 3, 3, 3, 3, 3, 3, 3, 3, 3, 3, 3, 3, 3, ...</td>\n",
       "    </tr>\n",
       "    <tr>\n",
       "      <th>4</th>\n",
       "      <td>[(0, 9), (1, 10), (2, 11), (3, 12), (4, 13), (...</td>\n",
       "      <td>[a, tentative, interim, amendment, (ti@@, a), ...</td>\n",
       "      <td>[el, 11, de, agosto, de, 2011, se, emiti@@, ó,...</td>\n",
       "      <td>4</td>\n",
       "      <td>[(a, una), (tentative, enmienda), (interim, in...</td>\n",
       "      <td>64</td>\n",
       "      <td>[4, 4, 4, 4, 4, 4, 4, 4, 4, 4, 4, 4, 4, 4, 4, ...</td>\n",
       "    </tr>\n",
       "  </tbody>\n",
       "</table>\n",
       "</div>"
      ],
      "text/plain": [
       "                                           align_idx  \\\n",
       "0  [(0, 0), (1, 1), (2, 2), (3, 3), (4, 4), (5, 5...   \n",
       "1  [(0, 0), (1, 1), (2, 2), (3, 3), (3, 4), (4, 4...   \n",
       "2  [(0, 1), (1, 0), (1, 2), (2, 3), (3, 4), (4, 5...   \n",
       "3  [(0, 0), (1, 1), (2, 2), (3, 3), (4, 4), (5, 5...   \n",
       "4  [(0, 9), (1, 10), (2, 11), (3, 12), (4, 13), (...   \n",
       "\n",
       "                                           en_tokens  \\\n",
       "0  [nfpa, and, national, fire, protection, associ...   \n",
       "1  [copyright, ©, 2011, national, fire, protectio...   \n",
       "2  [this, edition, of, nfpa, 1,, fire, code,, was...   \n",
       "3  [this, edition, of, nfpa, 1, was, approved, as...   \n",
       "4  [a, tentative, interim, amendment, (ti@@, a), ...   \n",
       "\n",
       "                                           es_tokens  sentence_id  \\\n",
       "0  [nfpa, y, national, fire, protection, associat...            0   \n",
       "1  [copyright, ©, 2011, national, fire, protectio...            1   \n",
       "2  [la, presente, edición, de, nfpa, 1,, código, ...            2   \n",
       "3  [esta, edición, de, nfpa, 1, se, aprobó, como,...            3   \n",
       "4  [el, 11, de, agosto, de, 2011, se, emiti@@, ó,...            4   \n",
       "\n",
       "                                          align_list  align_len  \\\n",
       "0  [(nfpa, nfpa), (and, y), (national, national),...         19   \n",
       "1  [(copyright, copyright), (©, ©), (2011, 2011),...         14   \n",
       "2  [(this, presente), (edition, la), (edition, ed...         47   \n",
       "3  [(this, esta), (edition, edición), (of, de), (...         21   \n",
       "4  [(a, una), (tentative, enmienda), (interim, in...         64   \n",
       "\n",
       "                                     sentence_id_idx  \n",
       "0  [0, 0, 0, 0, 0, 0, 0, 0, 0, 0, 0, 0, 0, 0, 0, ...  \n",
       "1         [1, 1, 1, 1, 1, 1, 1, 1, 1, 1, 1, 1, 1, 1]  \n",
       "2  [2, 2, 2, 2, 2, 2, 2, 2, 2, 2, 2, 2, 2, 2, 2, ...  \n",
       "3  [3, 3, 3, 3, 3, 3, 3, 3, 3, 3, 3, 3, 3, 3, 3, ...  \n",
       "4  [4, 4, 4, 4, 4, 4, 4, 4, 4, 4, 4, 4, 4, 4, 4, ...  "
      ]
     },
     "execution_count": 7,
     "metadata": {},
     "output_type": "execute_result"
    }
   ],
   "source": [
    "merge_data_align[\"sentence_id_idx\"] = merge_data_align.apply(lambda x: [x[\"sentence_id\"]] * x[\"align_len\"], axis = 1)\n",
    "merge_data_align.head()"
   ]
  },
  {
   "cell_type": "markdown",
   "metadata": {},
   "source": [
    "#### Extract every align items to re-create the align dataframe in suitable format"
   ]
  },
  {
   "cell_type": "code",
   "execution_count": 8,
   "metadata": {},
   "outputs": [],
   "source": [
    "align_list = merge_data_align[\"align_list\"].values.tolist()"
   ]
  },
  {
   "cell_type": "code",
   "execution_count": 9,
   "metadata": {},
   "outputs": [
    {
     "name": "stdout",
     "output_type": "stream",
     "text": [
      "finished sentence 93858 / 93859 [99.999%]\n"
     ]
    }
   ],
   "source": [
    "align_df = pd.DataFrame(columns = [\"en_token\", \"es_token\"])\n",
    "for sentence_id in range(len(align_list)):\n",
    "    df = pd.DataFrame.from_records(align_list[sentence_id], columns = [\"en_token\", \"es_token\"])\n",
    "    df[\"sentence_id\"] = int(sentence_id)\n",
    "    align_df = pd.concat([align_df, df], axis = 0)\n",
    "    print(\"finished sentence {0} / {1} [{2:.3f}%]\".format(sentence_id, align_data.shape[0], sentence_id / align_data.shape[0] * 100))\n",
    "    clear_output(wait=True)"
   ]
  },
  {
   "cell_type": "markdown",
   "metadata": {},
   "source": [
    "#### Export the Alignment Dataframe"
   ]
  },
  {
   "cell_type": "code",
   "execution_count": 10,
   "metadata": {},
   "outputs": [],
   "source": [
    "align_df.to_csv(\"/home/ubuntu/cliang/nfpa_eda/sample_data/align_df.csv\")"
   ]
  },
  {
   "cell_type": "code",
   "execution_count": 16,
   "metadata": {},
   "outputs": [
    {
     "data": {
      "text/html": [
       "<div>\n",
       "<style scoped>\n",
       "    .dataframe tbody tr th:only-of-type {\n",
       "        vertical-align: middle;\n",
       "    }\n",
       "\n",
       "    .dataframe tbody tr th {\n",
       "        vertical-align: top;\n",
       "    }\n",
       "\n",
       "    .dataframe thead th {\n",
       "        text-align: right;\n",
       "    }\n",
       "</style>\n",
       "<table border=\"1\" class=\"dataframe\">\n",
       "  <thead>\n",
       "    <tr style=\"text-align: right;\">\n",
       "      <th></th>\n",
       "      <th>in_sentence_id</th>\n",
       "      <th>en_token</th>\n",
       "      <th>es_token</th>\n",
       "      <th>sentence_id</th>\n",
       "    </tr>\n",
       "  </thead>\n",
       "  <tbody>\n",
       "    <tr>\n",
       "      <th>0</th>\n",
       "      <td>0</td>\n",
       "      <td>nfpa</td>\n",
       "      <td>nfpa</td>\n",
       "      <td>0.0</td>\n",
       "    </tr>\n",
       "    <tr>\n",
       "      <th>1</th>\n",
       "      <td>1</td>\n",
       "      <td>and</td>\n",
       "      <td>y</td>\n",
       "      <td>0.0</td>\n",
       "    </tr>\n",
       "    <tr>\n",
       "      <th>2</th>\n",
       "      <td>2</td>\n",
       "      <td>national</td>\n",
       "      <td>national</td>\n",
       "      <td>0.0</td>\n",
       "    </tr>\n",
       "    <tr>\n",
       "      <th>3</th>\n",
       "      <td>3</td>\n",
       "      <td>fire</td>\n",
       "      <td>fire</td>\n",
       "      <td>0.0</td>\n",
       "    </tr>\n",
       "    <tr>\n",
       "      <th>4</th>\n",
       "      <td>4</td>\n",
       "      <td>protection</td>\n",
       "      <td>protection</td>\n",
       "      <td>0.0</td>\n",
       "    </tr>\n",
       "  </tbody>\n",
       "</table>\n",
       "</div>"
      ],
      "text/plain": [
       "   in_sentence_id    en_token    es_token  sentence_id\n",
       "0               0        nfpa        nfpa          0.0\n",
       "1               1         and           y          0.0\n",
       "2               2    national    national          0.0\n",
       "3               3        fire        fire          0.0\n",
       "4               4  protection  protection          0.0"
      ]
     },
     "execution_count": 16,
     "metadata": {},
     "output_type": "execute_result"
    }
   ],
   "source": [
    "align_df.reset_index().rename(columns = {\"index\": \"in_sentence_id\"}).head()"
   ]
  },
  {
   "cell_type": "code",
   "execution_count": null,
   "metadata": {},
   "outputs": [],
   "source": []
  }
 ],
 "metadata": {
  "kernelspec": {
   "display_name": "Environment (conda_tensorflow_p36)",
   "language": "python",
   "name": "conda_tensorflow_p36"
  },
  "language_info": {
   "codemirror_mode": {
    "name": "ipython",
    "version": 3
   },
   "file_extension": ".py",
   "mimetype": "text/x-python",
   "name": "python",
   "nbconvert_exporter": "python",
   "pygments_lexer": "ipython3",
   "version": "3.6.5"
  }
 },
 "nbformat": 4,
 "nbformat_minor": 2
}
